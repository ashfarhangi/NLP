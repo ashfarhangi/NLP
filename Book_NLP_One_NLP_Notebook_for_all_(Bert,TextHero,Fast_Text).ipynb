{
  "nbformat": 4,
  "nbformat_minor": 0,
  "metadata": {
    "colab": {
      "name": "Book_NLP_One NLP Notebook for all (Bert,TextHero,Fast Text).ipynb",
      "provenance": [],
      "collapsed_sections": [],
      "machine_shape": "hm",
      "mount_file_id": "1SjLLDyTIbNuCjlbfX7Zxh7IQMfpjkUuU",
      "authorship_tag": "ABX9TyOozVECp7lZCQxDhG23WSVA"
    },
    "kernelspec": {
      "name": "python3",
      "display_name": "Python 3"
    },
    "accelerator": "GPU",
    "widgets": {
      "application/vnd.jupyter.widget-state+json": {
        "a7f9b68d20494321ba3ccc006ca2c53d": {
          "model_module": "@jupyter-widgets/controls",
          "model_name": "HBoxModel",
          "state": {
            "_view_name": "HBoxView",
            "_dom_classes": [],
            "_model_name": "HBoxModel",
            "_view_module": "@jupyter-widgets/controls",
            "_model_module_version": "1.5.0",
            "_view_count": null,
            "_view_module_version": "1.5.0",
            "box_style": "",
            "layout": "IPY_MODEL_5eb98b30067e4b1e85c88710fefbbe2a",
            "_model_module": "@jupyter-widgets/controls",
            "children": [
              "IPY_MODEL_1e83f3ae12bf49baa10c802820d28050",
              "IPY_MODEL_8427b4d7b2724cf4b678dd48051661e1"
            ]
          }
        },
        "5eb98b30067e4b1e85c88710fefbbe2a": {
          "model_module": "@jupyter-widgets/base",
          "model_name": "LayoutModel",
          "state": {
            "_view_name": "LayoutView",
            "grid_template_rows": null,
            "right": null,
            "justify_content": null,
            "_view_module": "@jupyter-widgets/base",
            "overflow": null,
            "_model_module_version": "1.2.0",
            "_view_count": null,
            "flex_flow": null,
            "width": null,
            "min_width": null,
            "border": null,
            "align_items": null,
            "bottom": null,
            "_model_module": "@jupyter-widgets/base",
            "top": null,
            "grid_column": null,
            "overflow_y": null,
            "overflow_x": null,
            "grid_auto_flow": null,
            "grid_area": null,
            "grid_template_columns": null,
            "flex": null,
            "_model_name": "LayoutModel",
            "justify_items": null,
            "grid_row": null,
            "max_height": null,
            "align_content": null,
            "visibility": null,
            "align_self": null,
            "height": null,
            "min_height": null,
            "padding": null,
            "grid_auto_rows": null,
            "grid_gap": null,
            "max_width": null,
            "order": null,
            "_view_module_version": "1.2.0",
            "grid_template_areas": null,
            "object_position": null,
            "object_fit": null,
            "grid_auto_columns": null,
            "margin": null,
            "display": null,
            "left": null
          }
        },
        "1e83f3ae12bf49baa10c802820d28050": {
          "model_module": "@jupyter-widgets/controls",
          "model_name": "FloatProgressModel",
          "state": {
            "_view_name": "ProgressView",
            "style": "IPY_MODEL_a6e34464d08b4978b6820032327dbdb7",
            "_dom_classes": [],
            "description": "Downloading: 100%",
            "_model_name": "FloatProgressModel",
            "bar_style": "success",
            "max": 433,
            "_view_module": "@jupyter-widgets/controls",
            "_model_module_version": "1.5.0",
            "value": 433,
            "_view_count": null,
            "_view_module_version": "1.5.0",
            "orientation": "horizontal",
            "min": 0,
            "description_tooltip": null,
            "_model_module": "@jupyter-widgets/controls",
            "layout": "IPY_MODEL_6e0a68f8940445e888e7a6c89644c3a7"
          }
        },
        "8427b4d7b2724cf4b678dd48051661e1": {
          "model_module": "@jupyter-widgets/controls",
          "model_name": "HTMLModel",
          "state": {
            "_view_name": "HTMLView",
            "style": "IPY_MODEL_8be0b0af2cbe495a89c8c2d4149c222b",
            "_dom_classes": [],
            "description": "",
            "_model_name": "HTMLModel",
            "placeholder": "​",
            "_view_module": "@jupyter-widgets/controls",
            "_model_module_version": "1.5.0",
            "value": " 433/433 [00:08&lt;00:00, 48.7B/s]",
            "_view_count": null,
            "_view_module_version": "1.5.0",
            "description_tooltip": null,
            "_model_module": "@jupyter-widgets/controls",
            "layout": "IPY_MODEL_1981ef35d00e4d66afc50a3044e40046"
          }
        },
        "a6e34464d08b4978b6820032327dbdb7": {
          "model_module": "@jupyter-widgets/controls",
          "model_name": "ProgressStyleModel",
          "state": {
            "_view_name": "StyleView",
            "_model_name": "ProgressStyleModel",
            "description_width": "initial",
            "_view_module": "@jupyter-widgets/base",
            "_model_module_version": "1.5.0",
            "_view_count": null,
            "_view_module_version": "1.2.0",
            "bar_color": null,
            "_model_module": "@jupyter-widgets/controls"
          }
        },
        "6e0a68f8940445e888e7a6c89644c3a7": {
          "model_module": "@jupyter-widgets/base",
          "model_name": "LayoutModel",
          "state": {
            "_view_name": "LayoutView",
            "grid_template_rows": null,
            "right": null,
            "justify_content": null,
            "_view_module": "@jupyter-widgets/base",
            "overflow": null,
            "_model_module_version": "1.2.0",
            "_view_count": null,
            "flex_flow": null,
            "width": null,
            "min_width": null,
            "border": null,
            "align_items": null,
            "bottom": null,
            "_model_module": "@jupyter-widgets/base",
            "top": null,
            "grid_column": null,
            "overflow_y": null,
            "overflow_x": null,
            "grid_auto_flow": null,
            "grid_area": null,
            "grid_template_columns": null,
            "flex": null,
            "_model_name": "LayoutModel",
            "justify_items": null,
            "grid_row": null,
            "max_height": null,
            "align_content": null,
            "visibility": null,
            "align_self": null,
            "height": null,
            "min_height": null,
            "padding": null,
            "grid_auto_rows": null,
            "grid_gap": null,
            "max_width": null,
            "order": null,
            "_view_module_version": "1.2.0",
            "grid_template_areas": null,
            "object_position": null,
            "object_fit": null,
            "grid_auto_columns": null,
            "margin": null,
            "display": null,
            "left": null
          }
        },
        "8be0b0af2cbe495a89c8c2d4149c222b": {
          "model_module": "@jupyter-widgets/controls",
          "model_name": "DescriptionStyleModel",
          "state": {
            "_view_name": "StyleView",
            "_model_name": "DescriptionStyleModel",
            "description_width": "",
            "_view_module": "@jupyter-widgets/base",
            "_model_module_version": "1.5.0",
            "_view_count": null,
            "_view_module_version": "1.2.0",
            "_model_module": "@jupyter-widgets/controls"
          }
        },
        "1981ef35d00e4d66afc50a3044e40046": {
          "model_module": "@jupyter-widgets/base",
          "model_name": "LayoutModel",
          "state": {
            "_view_name": "LayoutView",
            "grid_template_rows": null,
            "right": null,
            "justify_content": null,
            "_view_module": "@jupyter-widgets/base",
            "overflow": null,
            "_model_module_version": "1.2.0",
            "_view_count": null,
            "flex_flow": null,
            "width": null,
            "min_width": null,
            "border": null,
            "align_items": null,
            "bottom": null,
            "_model_module": "@jupyter-widgets/base",
            "top": null,
            "grid_column": null,
            "overflow_y": null,
            "overflow_x": null,
            "grid_auto_flow": null,
            "grid_area": null,
            "grid_template_columns": null,
            "flex": null,
            "_model_name": "LayoutModel",
            "justify_items": null,
            "grid_row": null,
            "max_height": null,
            "align_content": null,
            "visibility": null,
            "align_self": null,
            "height": null,
            "min_height": null,
            "padding": null,
            "grid_auto_rows": null,
            "grid_gap": null,
            "max_width": null,
            "order": null,
            "_view_module_version": "1.2.0",
            "grid_template_areas": null,
            "object_position": null,
            "object_fit": null,
            "grid_auto_columns": null,
            "margin": null,
            "display": null,
            "left": null
          }
        },
        "54b54b339da3426ebd2acfb27e1571be": {
          "model_module": "@jupyter-widgets/controls",
          "model_name": "HBoxModel",
          "state": {
            "_view_name": "HBoxView",
            "_dom_classes": [],
            "_model_name": "HBoxModel",
            "_view_module": "@jupyter-widgets/controls",
            "_model_module_version": "1.5.0",
            "_view_count": null,
            "_view_module_version": "1.5.0",
            "box_style": "",
            "layout": "IPY_MODEL_06a0475deb4d424db98e8791c1fd7738",
            "_model_module": "@jupyter-widgets/controls",
            "children": [
              "IPY_MODEL_d1d5789fc5b84ca3920e45d5b49c54fd",
              "IPY_MODEL_fb2af32860b645dabf4e669a1775c737"
            ]
          }
        },
        "06a0475deb4d424db98e8791c1fd7738": {
          "model_module": "@jupyter-widgets/base",
          "model_name": "LayoutModel",
          "state": {
            "_view_name": "LayoutView",
            "grid_template_rows": null,
            "right": null,
            "justify_content": null,
            "_view_module": "@jupyter-widgets/base",
            "overflow": null,
            "_model_module_version": "1.2.0",
            "_view_count": null,
            "flex_flow": null,
            "width": null,
            "min_width": null,
            "border": null,
            "align_items": null,
            "bottom": null,
            "_model_module": "@jupyter-widgets/base",
            "top": null,
            "grid_column": null,
            "overflow_y": null,
            "overflow_x": null,
            "grid_auto_flow": null,
            "grid_area": null,
            "grid_template_columns": null,
            "flex": null,
            "_model_name": "LayoutModel",
            "justify_items": null,
            "grid_row": null,
            "max_height": null,
            "align_content": null,
            "visibility": null,
            "align_self": null,
            "height": null,
            "min_height": null,
            "padding": null,
            "grid_auto_rows": null,
            "grid_gap": null,
            "max_width": null,
            "order": null,
            "_view_module_version": "1.2.0",
            "grid_template_areas": null,
            "object_position": null,
            "object_fit": null,
            "grid_auto_columns": null,
            "margin": null,
            "display": null,
            "left": null
          }
        },
        "d1d5789fc5b84ca3920e45d5b49c54fd": {
          "model_module": "@jupyter-widgets/controls",
          "model_name": "FloatProgressModel",
          "state": {
            "_view_name": "ProgressView",
            "style": "IPY_MODEL_d1899ab7a9464423a7c911144a77cb63",
            "_dom_classes": [],
            "description": "Downloading: 100%",
            "_model_name": "FloatProgressModel",
            "bar_style": "success",
            "max": 440473133,
            "_view_module": "@jupyter-widgets/controls",
            "_model_module_version": "1.5.0",
            "value": 440473133,
            "_view_count": null,
            "_view_module_version": "1.5.0",
            "orientation": "horizontal",
            "min": 0,
            "description_tooltip": null,
            "_model_module": "@jupyter-widgets/controls",
            "layout": "IPY_MODEL_9676dcda04f6426682080f351025a1eb"
          }
        },
        "fb2af32860b645dabf4e669a1775c737": {
          "model_module": "@jupyter-widgets/controls",
          "model_name": "HTMLModel",
          "state": {
            "_view_name": "HTMLView",
            "style": "IPY_MODEL_68e409953a50488598cb1ff54ba8a46b",
            "_dom_classes": [],
            "description": "",
            "_model_name": "HTMLModel",
            "placeholder": "​",
            "_view_module": "@jupyter-widgets/controls",
            "_model_module_version": "1.5.0",
            "value": " 440M/440M [00:08&lt;00:00, 50.8MB/s]",
            "_view_count": null,
            "_view_module_version": "1.5.0",
            "description_tooltip": null,
            "_model_module": "@jupyter-widgets/controls",
            "layout": "IPY_MODEL_dc8bfeef45944dc697e37a7819e8f831"
          }
        },
        "d1899ab7a9464423a7c911144a77cb63": {
          "model_module": "@jupyter-widgets/controls",
          "model_name": "ProgressStyleModel",
          "state": {
            "_view_name": "StyleView",
            "_model_name": "ProgressStyleModel",
            "description_width": "initial",
            "_view_module": "@jupyter-widgets/base",
            "_model_module_version": "1.5.0",
            "_view_count": null,
            "_view_module_version": "1.2.0",
            "bar_color": null,
            "_model_module": "@jupyter-widgets/controls"
          }
        },
        "9676dcda04f6426682080f351025a1eb": {
          "model_module": "@jupyter-widgets/base",
          "model_name": "LayoutModel",
          "state": {
            "_view_name": "LayoutView",
            "grid_template_rows": null,
            "right": null,
            "justify_content": null,
            "_view_module": "@jupyter-widgets/base",
            "overflow": null,
            "_model_module_version": "1.2.0",
            "_view_count": null,
            "flex_flow": null,
            "width": null,
            "min_width": null,
            "border": null,
            "align_items": null,
            "bottom": null,
            "_model_module": "@jupyter-widgets/base",
            "top": null,
            "grid_column": null,
            "overflow_y": null,
            "overflow_x": null,
            "grid_auto_flow": null,
            "grid_area": null,
            "grid_template_columns": null,
            "flex": null,
            "_model_name": "LayoutModel",
            "justify_items": null,
            "grid_row": null,
            "max_height": null,
            "align_content": null,
            "visibility": null,
            "align_self": null,
            "height": null,
            "min_height": null,
            "padding": null,
            "grid_auto_rows": null,
            "grid_gap": null,
            "max_width": null,
            "order": null,
            "_view_module_version": "1.2.0",
            "grid_template_areas": null,
            "object_position": null,
            "object_fit": null,
            "grid_auto_columns": null,
            "margin": null,
            "display": null,
            "left": null
          }
        },
        "68e409953a50488598cb1ff54ba8a46b": {
          "model_module": "@jupyter-widgets/controls",
          "model_name": "DescriptionStyleModel",
          "state": {
            "_view_name": "StyleView",
            "_model_name": "DescriptionStyleModel",
            "description_width": "",
            "_view_module": "@jupyter-widgets/base",
            "_model_module_version": "1.5.0",
            "_view_count": null,
            "_view_module_version": "1.2.0",
            "_model_module": "@jupyter-widgets/controls"
          }
        },
        "dc8bfeef45944dc697e37a7819e8f831": {
          "model_module": "@jupyter-widgets/base",
          "model_name": "LayoutModel",
          "state": {
            "_view_name": "LayoutView",
            "grid_template_rows": null,
            "right": null,
            "justify_content": null,
            "_view_module": "@jupyter-widgets/base",
            "overflow": null,
            "_model_module_version": "1.2.0",
            "_view_count": null,
            "flex_flow": null,
            "width": null,
            "min_width": null,
            "border": null,
            "align_items": null,
            "bottom": null,
            "_model_module": "@jupyter-widgets/base",
            "top": null,
            "grid_column": null,
            "overflow_y": null,
            "overflow_x": null,
            "grid_auto_flow": null,
            "grid_area": null,
            "grid_template_columns": null,
            "flex": null,
            "_model_name": "LayoutModel",
            "justify_items": null,
            "grid_row": null,
            "max_height": null,
            "align_content": null,
            "visibility": null,
            "align_self": null,
            "height": null,
            "min_height": null,
            "padding": null,
            "grid_auto_rows": null,
            "grid_gap": null,
            "max_width": null,
            "order": null,
            "_view_module_version": "1.2.0",
            "grid_template_areas": null,
            "object_position": null,
            "object_fit": null,
            "grid_auto_columns": null,
            "margin": null,
            "display": null,
            "left": null
          }
        }
      }
    }
  },
  "cells": [
    {
      "cell_type": "markdown",
      "metadata": {
        "id": "6U_AQpFaTXcZ"
      },
      "source": [
        "Attention! Restart the nookbook after running the cell below for the first time"
      ]
    },
    {
      "cell_type": "code",
      "metadata": {
        "id": "lM2qj4JLmMK3"
      },
      "source": [
        "%%time \n",
        "#hide output of cell\n",
        "%%capture \n",
        "\n",
        "import warnings;\n",
        "warnings.filterwarnings('ignore');\n",
        "!pip install tqdm\n",
        "!pip install texthero;\n",
        "!pip install bert-extractive-summarizer;\n",
        "# !pip install spacy==2.1.3\n",
        "# !pip install transformers==2.2.2\n",
        "!pip install spacy;\n",
        "!pip install transformers;\n",
        "!pip install neuralcoref;\n",
        "!python -m spacy download en_core_web_md;\n"
      ],
      "execution_count": null,
      "outputs": []
    },
    {
      "cell_type": "code",
      "metadata": {
        "id": "HUFbGDU_H3Zf",
        "outputId": "44a81cf0-6500-42c4-fa7e-ad780e3f274d",
        "colab": {
          "base_uri": "https://localhost:8080/"
        }
      },
      "source": [
        ""
      ],
      "execution_count": null,
      "outputs": [
        {
          "output_type": "stream",
          "text": [
            "\u001b[31mERROR: Operation cancelled by user\u001b[0m\n",
            "  Building wheel for fasttext (setup.py) ... \u001b[?25l\u001b[?25h"
          ],
          "name": "stdout"
        }
      ]
    },
    {
      "cell_type": "code",
      "metadata": {
        "id": "wbKHoCI8yA5Z",
        "outputId": "34a5a88b-f245-4b11-a7b9-49f99e99bb14",
        "colab": {
          "base_uri": "https://localhost:8080/"
        }
      },
      "source": [
        "%%time\n",
        "%%capture\n",
        "\n",
        "import pandas as pd;\n",
        "import matplotlib.pyplot as plt;\n",
        "import spacy;\n",
        "from tqdm import tqdm\n",
        "import texthero as hero;\n",
        "# import fasttext;\n",
        "!python -m spacy download en_core_web_md;\n"
      ],
      "execution_count": null,
      "outputs": [
        {
          "output_type": "stream",
          "text": [
            "CPU times: user 16 ms, sys: 11.2 ms, total: 27.2 ms\n",
            "Wall time: 4.14 s\n"
          ],
          "name": "stdout"
        }
      ]
    },
    {
      "cell_type": "markdown",
      "metadata": {
        "id": "WEctJb_L9NB_"
      },
      "source": [
        "# Classification"
      ]
    },
    {
      "cell_type": "markdown",
      "metadata": {
        "id": "RXa3W3oQROsY"
      },
      "source": [
        "## FastText Facebook\n"
      ]
    },
    {
      "cell_type": "code",
      "metadata": {
        "id": "tGgMjZ3mU2hl",
        "outputId": "69e2c90a-2f82-468e-f2b1-93ad3518b927",
        "colab": {
          "base_uri": "https://localhost:8080/"
        }
      },
      "source": [
        "%cd '/content'\n",
        "!git clone https://github.com/facebookresearch/fastText.git\n",
        "%cd fastText\n",
        "!pip install ."
      ],
      "execution_count": null,
      "outputs": [
        {
          "output_type": "stream",
          "text": [
            "/content\n",
            "fatal: destination path 'fastText' already exists and is not an empty directory.\n",
            "/content/fastText\n",
            "Processing /content/fastText\n",
            "Requirement already satisfied: pybind11>=2.2 in /usr/local/lib/python3.6/dist-packages (from fasttext==0.9.2) (2.6.0)\n",
            "Requirement already satisfied: setuptools>=0.7.0 in /usr/local/lib/python3.6/dist-packages (from fasttext==0.9.2) (50.3.2)\n",
            "Requirement already satisfied: numpy in /usr/local/lib/python3.6/dist-packages (from fasttext==0.9.2) (1.18.5)\n",
            "Building wheels for collected packages: fasttext\n",
            "  Building wheel for fasttext (setup.py) ... \u001b[?25l\u001b[?25hdone\n",
            "  Created wheel for fasttext: filename=fasttext-0.9.2-cp36-cp36m-linux_x86_64.whl size=3017117 sha256=c377660604dda492740ce1352f5a10ed3b521301e69c9f1c62757a4511ff432f\n",
            "  Stored in directory: /tmp/pip-ephem-wheel-cache-s4ll7i78/wheels/a1/9f/52/696ce6c5c46325e840c76614ee5051458c0df10306987e7443\n",
            "Successfully built fasttext\n",
            "Installing collected packages: fasttext\n",
            "Successfully installed fasttext-0.9.2\n"
          ],
          "name": "stdout"
        }
      ]
    },
    {
      "cell_type": "code",
      "metadata": {
        "id": "16JlrAYaWNI0"
      },
      "source": [
        "!cd cooking.stackexchange.txt;\n",
        "!wget https://dl.fbaipublicfiles.com/fasttext/data/cooking.stackexchange.tar.gz && tar xvzf cooking.stackexchange.tar.gz\n",
        "!head cooking.stackexchange.txt;\n",
        "!wc cooking.stackexchange.txt;\n",
        "!head -n 12404 cooking.stackexchange.txt > cooking.train;\n",
        "!tail -n 3000 cooking.stackexchange.txt > cooking.valid;\n"
      ],
      "execution_count": null,
      "outputs": []
    },
    {
      "cell_type": "code",
      "metadata": {
        "id": "qaml47gwSoI2"
      },
      "source": [
        "model = fasttext.train_supervised(input=\"cooking.train\");\n",
        "model.save_model(\"model_cooking.bin\");\n",
        "model.predict(\"Which baking dish is best to bake a banana bread ?\");\n",
        "model.predict(\"Why not put knives in the dishwasher?\");"
      ],
      "execution_count": null,
      "outputs": []
    },
    {
      "cell_type": "code",
      "metadata": {
        "id": "WB1IwvayNRAR"
      },
      "source": [
        "%%script false\n",
        "!cat cooking.stackexchange.txt | sed -e \"s/\\([.\\!?,'/()]\\)/ \\1 /g\" | tr \"[:upper:]\" \"[:lower:]\" > cooking.preprocessed.txt\n",
        "!head -n 12404 cooking.preprocessed.txt > cooking.train\n",
        "!tail -n 3000 cooking.preprocessed.txt > cooking.valid\n",
        "# model = fasttext.train_supervised(input=\"cooking.train\", lr=1.0)\n",
        "model.test(\"cooking.valid\")\n",
        "# model = fasttext.train_supervised(input=\"cooking.train\", lr=1.0, epoch=25, wordNgrams=2)\n",
        "model = fasttext.train_supervised(input=\"cooking.train\", lr=0.5, epoch=25, wordNgrams=2, bucket=200000, dim=50, loss='ova')\n",
        "model.predict(\"Which baking dish is best to bake a banana bread ?\", k=-1, threshold=0.5)"
      ],
      "execution_count": null,
      "outputs": []
    },
    {
      "cell_type": "markdown",
      "metadata": {
        "id": "JrqC9MZ_DBSe"
      },
      "source": [
        "## Bert Google"
      ]
    },
    {
      "cell_type": "code",
      "metadata": {
        "id": "inzLl_hcDESM"
      },
      "source": [
        "import numpy as np\n",
        "import pandas as pd\n",
        "import torch\n",
        "import transformers as ppb # pytorch transformers\n",
        "from sklearn.linear_model import LogisticRegression\n",
        "from sklearn.model_selection import cross_val_score\n",
        "from sklearn.model_selection import train_test_split\n"
      ],
      "execution_count": null,
      "outputs": []
    },
    {
      "cell_type": "code",
      "metadata": {
        "id": "P2LyFxFaDSJQ",
        "outputId": "1ccbbdc8-a072-44a8-ac2d-9f3da1e1144d",
        "colab": {
          "base_uri": "https://localhost:8080/",
          "height": 116,
          "referenced_widgets": [
            "a7f9b68d20494321ba3ccc006ca2c53d",
            "5eb98b30067e4b1e85c88710fefbbe2a",
            "1e83f3ae12bf49baa10c802820d28050",
            "8427b4d7b2724cf4b678dd48051661e1",
            "a6e34464d08b4978b6820032327dbdb7",
            "6e0a68f8940445e888e7a6c89644c3a7",
            "8be0b0af2cbe495a89c8c2d4149c222b",
            "1981ef35d00e4d66afc50a3044e40046",
            "54b54b339da3426ebd2acfb27e1571be",
            "06a0475deb4d424db98e8791c1fd7738",
            "d1d5789fc5b84ca3920e45d5b49c54fd",
            "fb2af32860b645dabf4e669a1775c737",
            "d1899ab7a9464423a7c911144a77cb63",
            "9676dcda04f6426682080f351025a1eb",
            "68e409953a50488598cb1ff54ba8a46b",
            "dc8bfeef45944dc697e37a7819e8f831"
          ]
        }
      },
      "source": [
        "df = pd.read_csv('https://github.com/clairett/pytorch-sentiment-classification/raw/master/data/SST2/train.tsv', delimiter='\\t', header=None)\n",
        "model_class, tokenizer_class, pretrained_weights = (ppb.DistilBertModel, ppb.DistilBertTokenizer, 'distilbert-base-uncased')\n",
        "\n",
        "## Want BERT instead of distilBERT? Uncomment the following line:\n",
        "# model_class, tokenizer_class, pretrained_weights = (ppb.BertModel, ppb.BertTokenizer, 'bert-base-uncased')\n",
        "\n",
        "# Load pretrained model/tokenizer\n",
        "tokenizer = tokenizer_class.from_pretrained(pretrained_weights)\n",
        "model = model_class.from_pretrained(pretrained_weights)\n",
        "# !! uncomment for full data\n",
        "# df = df[:100]\n",
        "df.columns =['text','label']\n",
        "# Computationally heavy, its best to limit rows first\n",
        "lenRows = 1000 #43 seconds DistillBert - 1.5 minutes  BERT\n",
        "# lenRows = len(df)\n",
        "\n",
        "df = df[:lenRows]"
      ],
      "execution_count": null,
      "outputs": [
        {
          "output_type": "display_data",
          "data": {
            "application/vnd.jupyter.widget-view+json": {
              "model_id": "a7f9b68d20494321ba3ccc006ca2c53d",
              "version_minor": 0,
              "version_major": 2
            },
            "text/plain": [
              "HBox(children=(FloatProgress(value=0.0, description='Downloading', max=433.0, style=ProgressStyle(description_…"
            ]
          },
          "metadata": {
            "tags": []
          }
        },
        {
          "output_type": "stream",
          "text": [
            "\n"
          ],
          "name": "stdout"
        },
        {
          "output_type": "display_data",
          "data": {
            "application/vnd.jupyter.widget-view+json": {
              "model_id": "54b54b339da3426ebd2acfb27e1571be",
              "version_minor": 0,
              "version_major": 2
            },
            "text/plain": [
              "HBox(children=(FloatProgress(value=0.0, description='Downloading', max=440473133.0, style=ProgressStyle(descri…"
            ]
          },
          "metadata": {
            "tags": []
          }
        },
        {
          "output_type": "stream",
          "text": [
            "\n"
          ],
          "name": "stdout"
        }
      ]
    },
    {
      "cell_type": "code",
      "metadata": {
        "id": "utaGO_aLDdy2"
      },
      "source": [
        "# Encoding the  the text columns\n",
        "tokenized = df['text'].apply((lambda x: tokenizer.encode(x, add_special_tokens=True)))\n",
        "max_len = 0\n",
        "# Find the maximum len of tokens (sentence)\n",
        "for i in tokenized.values:\n",
        "    if len(i) > max_len:\n",
        "        max_len = len(i)\n",
        "# padding all sentence to the maximum sentence\n",
        "padded = np.array([i + [0]*(max_len-len(i)) for i in tokenized.values])"
      ],
      "execution_count": null,
      "outputs": []
    },
    {
      "cell_type": "code",
      "metadata": {
        "id": "g_JOvOysDl-0",
        "outputId": "5f3d157f-ee13-429c-b548-aed5d0530a72",
        "colab": {
          "base_uri": "https://localhost:8080/"
        }
      },
      "source": [
        "%%time\n",
        "\n",
        "\"\"\" No attention: \"\"\"\n",
        "## put sentences into a tensor with no attention\n",
        "# input_ids = torch.tensor(np.array(padded))\n",
        "## Putting the tensor into the disbert model\n",
        "# with torch.no_grad():\n",
        "    # last_hidden_states = model(input_ids)\n",
        "# get the attention mask from where the padding is not zero or 1 \n",
        "''' with attention: '''\n",
        "attention_mask = np.where(padded != 0, 1, 0)\n",
        "# input tnesor tensor\n",
        "input_ids = torch.tensor(padded)  \n",
        "attention_mask = torch.tensor(attention_mask)\n",
        "# attention tensor\n",
        "with torch.no_grad():\n",
        "    last_hidden_states = model(input_ids, attention_mask=attention_mask)\n",
        "# features\n",
        "features = last_hidden_states[0][:,0,:].numpy()\n",
        "batch_1 = df[:lenRows]\n",
        "# labels\n",
        "labels = batch_1['label']\n",
        "train_features, test_features, train_labels, test_labels = train_test_split(features, labels)\n",
        "# Lostic regression for fitting \n",
        "lr_clf = LogisticRegression()\n",
        "lr_clf.fit(train_features, train_labels)"
      ],
      "execution_count": null,
      "outputs": [
        {
          "output_type": "stream",
          "text": [
            "CPU times: user 2min 49s, sys: 1.61 s, total: 2min 51s\n",
            "Wall time: 1min 26s\n"
          ],
          "name": "stdout"
        }
      ]
    },
    {
      "cell_type": "code",
      "metadata": {
        "id": "HhQTZ3O_ENjV",
        "outputId": "6f367077-9d13-41f2-b4e4-f254cd9222df",
        "colab": {
          "base_uri": "https://localhost:8080/"
        }
      },
      "source": [
        "lr_clf.score(test_features, test_labels) \n",
        "# disbert .83 bert 0.804"
      ],
      "execution_count": null,
      "outputs": [
        {
          "output_type": "execute_result",
          "data": {
            "text/plain": [
              "0.804"
            ]
          },
          "metadata": {
            "tags": []
          },
          "execution_count": 45
        }
      ]
    },
    {
      "cell_type": "code",
      "metadata": {
        "id": "XrILlTQEE8K5",
        "outputId": "567241a3-1ba3-48a0-dc84-dcafd8e43395",
        "colab": {
          "base_uri": "https://localhost:8080/"
        }
      },
      "source": [
        "from sklearn.dummy import DummyClassifier\n",
        "clf = DummyClassifier()\n",
        "\n",
        "scores = cross_val_score(clf, train_features, train_labels)\n",
        "print(\"Dummy classifier score: %0.3f (+/- %0.2f)\" % (scores.mean(), scores.std() * 2))\n",
        "# disbert: .45 bert .49"
      ],
      "execution_count": null,
      "outputs": [
        {
          "output_type": "stream",
          "text": [
            "Dummy classifier score: 0.492 (+/- 0.05)\n"
          ],
          "name": "stdout"
        }
      ]
    },
    {
      "cell_type": "markdown",
      "metadata": {
        "id": "_bbW5VlNPwYB"
      },
      "source": [
        "Bert in one cell"
      ]
    },
    {
      "cell_type": "code",
      "metadata": {
        "id": "_rv6Kb8VPG0U"
      },
      "source": [
        "import numpy as np\n",
        "import pandas as pd\n",
        "import torch\n",
        "import transformers as ppb # pytorch transformers\n",
        "from sklearn.linear_model import LogisticRegression\n",
        "from sklearn.model_selection import cross_val_score\n",
        "from sklearn.model_selection import train_test_split\n",
        "df = pd.read_csv('https://github.com/clairett/pytorch-sentiment-classification/raw/master/data/SST2/train.tsv', delimiter='\\t', header=None)\n",
        "model_class, tokenizer_class, pretrained_weights = (ppb.DistilBertModel, ppb.DistilBertTokenizer, 'distilbert-base-uncased')\n",
        "tokenizer = tokenizer_class.from_pretrained(pretrained_weights)\n",
        "model = model_class.from_pretrained(pretrained_weights)\n",
        "df.columns =['text','label']\n",
        "lenRows = 1000 #43 seconds DistillBert - 1.5 minutes  BERT\n",
        "# lenRows = len(df)\n",
        "df = df[:lenRows]\n",
        "tokenized = df['text'].apply((lambda x: tokenizer.encode(x, add_special_tokens=True)))\n",
        "max_len = 0\n",
        "for i in tokenized.values:\n",
        "  if len(i) > max_len:\n",
        "    max_len = len(i)\n",
        "padded = np.array([i + [0]*(max_len-len(i)) for i in tokenized.values])\n",
        "attention_mask = np.where(padded != 0, 1, 0)\n",
        "# input tnesor tensor\n",
        "input_ids = torch.tensor(padded)  \n",
        "attention_mask = torch.tensor(attention_mask)\n",
        "# attention tensor\n",
        "with torch.no_grad():\n",
        "  last_hidden_states = model(input_ids, attention_mask=attention_mask)\n",
        "# features\n",
        "features = last_hidden_states[0][:,0,:].numpy()\n",
        "batch_1 = df[:lenRows]\n",
        "# labels\n",
        "labels = batch_1['label']\n",
        "train_features, test_features, train_labels, test_labels = train_test_split(features, labels)\n",
        "# Lostic regression for fitting \n",
        "lr_clf = LogisticRegression()\n",
        "lr_clf.fit(train_features, train_labels)\n",
        "\n",
        "lr_clf.score(test_features, test_labels) \n",
        "\n",
        "from sklearn.dummy import DummyClassifier\n",
        "clf = DummyClassifier()\n",
        "\n",
        "scores = cross_val_score(clf, train_features, train_labels)\n",
        "print(\"Dummy classifier score: %0.3f (+/- %0.2f)\" % (scores.mean(), scores.std() * 2))"
      ],
      "execution_count": null,
      "outputs": []
    },
    {
      "cell_type": "markdown",
      "metadata": {
        "id": "JJrjc_ft9TFZ"
      },
      "source": [
        "# Summerization"
      ]
    },
    {
      "cell_type": "markdown",
      "metadata": {
        "id": "FG70fW49cIWy"
      },
      "source": [
        "## Bert Summarizer"
      ]
    },
    {
      "cell_type": "markdown",
      "metadata": {
        "id": "lYn1pvwY9cKh"
      },
      "source": [
        "! Attention 1.3GB will be downloaded"
      ]
    },
    {
      "cell_type": "code",
      "metadata": {
        "id": "t5gzMpwZ0319"
      },
      "source": [
        "from summarizer import Summarizer\n",
        "from summarizer.coreference_handler import CoreferenceHandler\n",
        "\n",
        "handler = CoreferenceHandler(greedyness=.4)\n",
        "# How coreference works:\n",
        "# >>>handler.process('''My sister has a dog. She loves him.''', min_length=2)\n",
        "# ['My sister has a dog.', 'My sister loves a dog.']\n",
        "\n",
        "body = 'Text body that you want to summarize with BERT'\n",
        "body2 = 'Something else you want to summarize with BERT'\n",
        "model = Summarizer(sentence_handler=handler)\n",
        "model(body)\n",
        "model(body2)\n"
      ],
      "execution_count": null,
      "outputs": []
    },
    {
      "cell_type": "code",
      "metadata": {
        "id": "3GKSyvr106Ci"
      },
      "source": [
        "from transformers import *\n",
        "\n",
        "# Load model, model config and tokenizer via Transformers\n",
        "custom_config = AutoConfig.from_pretrained('allenai/scibert_scivocab_uncased')\n",
        "custom_config.output_hidden_states=True\n",
        "custom_tokenizer = AutoTokenizer.from_pretrained('allenai/scibert_scivocab_uncased')\n",
        "custom_model = AutoModel.from_pretrained('allenai/scibert_scivocab_uncased', config=custom_config)\n",
        "\n",
        "# from summarizer import Summarizer\n",
        "\n",
        "# body = 'Text body that you want to summarize with BERT'\n",
        "# body2 = 'Something else you want to summarize with BERT'\n",
        "# model = Summarizer(custom_model=custom_model, custom_tokenizer=custom_tokenizer)\n",
        "# model(body)\n",
        "# model(body2)\n"
      ],
      "execution_count": null,
      "outputs": []
    },
    {
      "cell_type": "code",
      "metadata": {
        "id": "mQimczhU087K"
      },
      "source": [
        "from summarizer import Summarizer\n",
        "\n",
        "body = '''\n",
        "The Chrysler Building, the famous art deco New York skyscraper, will be sold for a small fraction of its previous sales price.\n",
        "The deal, first reported by The Real Deal, was for $150 million, according to a source familiar with the deal.\n",
        "Mubadala, an Abu Dhabi investment fund, purchased 90% of the building for $800 million in 2008.\n",
        "Real estate firm Tishman Speyer had owned the other 10%.\n",
        "The buyer is RFR Holding, a New York real estate company.\n",
        "Officials with Tishman and RFR did not immediately respond to a request for comments.\n",
        "It's unclear when the deal will close.\n",
        "The building sold fairly quickly after being publicly placed on the market only two months ago.\n",
        "The sale was handled by CBRE Group.\n",
        "The incentive to sell the building at such a huge loss was due to the soaring rent the owners pay to Cooper Union, a New York college, for the land under the building.\n",
        "The rent is rising from $7.75 million last year to $32.5 million this year to $41 million in 2028.\n",
        "Meantime, rents in the building itself are not rising nearly that fast.\n",
        "While the building is an iconic landmark in the New York skyline, it is competing against newer office towers with large floor-to-ceiling windows and all the modern amenities.\n",
        "Still the building is among the best known in the city, even to people who have never been to New York.\n",
        "It is famous for its triangle-shaped, vaulted windows worked into the stylized crown, along with its distinctive eagle gargoyles near the top.\n",
        "It has been featured prominently in many films, including Men in Black 3, Spider-Man, Armageddon, Two Weeks Notice and Independence Day.\n",
        "The previous sale took place just before the 2008 financial meltdown led to a plunge in real estate prices.\n",
        "Still there have been a number of high profile skyscrapers purchased for top dollar in recent years, including the Waldorf Astoria hotel, which Chinese firm Anbang Insurance purchased in 2016 for nearly $2 billion, and the Willis Tower in Chicago, which was formerly known as Sears Tower, once the world's tallest.\n",
        "Blackstone Group (BX) bought it for $1.3 billion 2015.\n",
        "The Chrysler Building was the headquarters of the American automaker until 1953, but it was named for and owned by Chrysler chief Walter Chrysler, not the company itself.\n",
        "Walter Chrysler had set out to build the tallest building in the world, a competition at that time with another Manhattan skyscraper under construction at 40 Wall Street at the south end of Manhattan. He kept secret the plans for the spire that would grace the top of the building, building it inside the structure and out of view of the public until 40 Wall Street was complete.\n",
        "Once the competitor could rise no higher, the spire of the Chrysler building was raised into view, giving it the title.\n",
        "'''\n",
        "\n",
        "model = Summarizer()\n",
        "result = model(body, min_length=60)\n",
        "full = ''.join(result)\n",
        "print(full)\n",
        "\"\"\"\n",
        "The Chrysler Building, the famous art deco New York skyscraper, will be sold for a small fraction of its previous sales price. \n",
        "The building sold fairly quickly after being publicly placed on the market only two months ago.\n",
        "The incentive to sell the building at such a huge loss was due to the soaring rent the owners pay to Cooper Union, a New York college, for the land under the building.'\n",
        "Still the building is among the best known in the city, even to people who have never been to New York.\n",
        "\"\"\"\n"
      ],
      "execution_count": null,
      "outputs": []
    },
    {
      "cell_type": "markdown",
      "metadata": {
        "id": "TBdS3yN5-OCR"
      },
      "source": [
        "# Visualization"
      ]
    },
    {
      "cell_type": "markdown",
      "metadata": {
        "id": "CrMeN-eC-Qpy"
      },
      "source": [
        "## Text Hero"
      ]
    },
    {
      "cell_type": "code",
      "metadata": {
        "id": "HWiHXQX_-R_j"
      },
      "source": [
        "%%script false\n",
        "\n",
        "import texthero as hero\n",
        "df['clean_text'] = hero.clean(df['Complaint'])\n",
        "df['tfidf_clean_text'] = hero.tfidf(df['clean_text'])\n",
        "df['pca_tfidf_clean_text'] = hero.pca(df['tfidf_clean_text'])\n",
        "hero.scatterplot(df, col='pca_tfidf_clean_text', color='Date', title=\"PCA BBC Sport news\")\n",
        "NUM_TOP_WORDS = 5\n",
        "a = df.groupby('Date')['clean_text'].apply(lambda x: hero.top_words(x)[:NUM_TOP_WORDS])\n",
        "a = pd.DataFrame(a)\n",
        "a.to_excel('.//data//top_words.xlsx')\n",
        "df['pca'] = (\n",
        "   df['Complaint']\n",
        "   .pipe(hero.clean)\n",
        "   .pipe(hero.tfidf)\n",
        "   .pipe(hero.pca)\n",
        ")\n",
        "\n",
        "hero.scatterplot(df, 'pca', color='Date', title=\"Complaints\")\n",
        "NUM_TOP_WORDS = 5\n",
        "df.groupby('Date')['Complaint'].apply(lambda x: hero.top_words(x)[:NUM_TOP_WORDS])\n",
        "df['tfidf'] = (\n",
        "    df['Complaint']\n",
        "    .pipe(hero.clean)\n",
        "    .pipe(hero.tfidf)\n",
        ")\n",
        "\n",
        "df['kmeans_labels'] = (\n",
        "    df['tfidf']\n",
        "    .pipe(hero.kmeans, n_clusters=3)\n",
        "    .astype(str)\n",
        ")\n",
        "\n",
        "df['pca'] = df['tfidf'].pipe(hero.pca)\n",
        "\n",
        "p = hero.scatterplot(df, 'pca', color='kmeans_labels', title=\"K-means Clustering based on raw text\")\n",
        "p\n",
        "df['clean_text'] = hero.clean(df['Complaint'])\n",
        "df['tfidf_clean_text'] = hero.tfidf(df['clean_text'])\n",
        "df['pca_tfidf_clean_text'] = hero.pca(df['tfidf_clean_text'])\n",
        "\n",
        "# hero.scatterplot(df, col='pca_tfidf_clean_text', color='Date', title=\"PCA BBC Sport news\")\n",
        "\n",
        "\n",
        "df['kmeans_labels'] = (\n",
        "    df['tfidf_clean_text']\n",
        "    .pipe(hero.kmeans, n_clusters=2)\n",
        "    .astype(str)\n",
        ")\n",
        "\n",
        "hero.scatterplot(df, 'pca_tfidf_clean_text', color='kmeans_labels', title=\"K-means Clustering based on clean text\")\n",
        "for j in range((int(max(df.kmeans_labels))+1)):\n",
        "  print(str(j)+' =======')\n",
        "  print(df[df.kmeans_labels ==str(j)].Complaint)\n",
        "df[df.kmeans_labels =='6']\n",
        "for j in range((int(max(df.kmeans_labels))+1)):\n",
        "  print(str(j)+' =======')\n",
        "  print(df[df.kmeans_labels ==str(j)].Complaint)"
      ],
      "execution_count": null,
      "outputs": []
    },
    {
      "cell_type": "markdown",
      "metadata": {
        "id": "t9Ul4VGqSt65"
      },
      "source": [
        "# References"
      ]
    },
    {
      "cell_type": "markdown",
      "metadata": {
        "id": "vHyUjk3iSzYG"
      },
      "source": [
        "\n",
        "\n",
        "1.   List item\n",
        "2.   http://jalammar.github.io/a-visual-guide-to-using-bert-for-the-first-time/\n",
        "\n"
      ]
    }
  ]
}